{
 "cells": [
  {
   "cell_type": "code",
   "execution_count": 2,
   "id": "8c223361",
   "metadata": {},
   "outputs": [],
   "source": [
    "import pandas"
   ]
  },
  {
   "cell_type": "code",
   "execution_count": 3,
   "id": "540269ab",
   "metadata": {},
   "outputs": [],
   "source": [
    "import numpy"
   ]
  },
  {
   "cell_type": "code",
   "execution_count": 4,
   "id": "a7f81126",
   "metadata": {},
   "outputs": [],
   "source": [
    "# o banco de dados original nao possuia essa funcionalidade, fizemos esse campo artificialmente"
   ]
  },
  {
   "cell_type": "code",
   "execution_count": 5,
   "id": "d934c3d4",
   "metadata": {},
   "outputs": [],
   "source": [
    "# id, name, telefone, endereço"
   ]
  },
  {
   "cell_type": "code",
   "execution_count": 12,
   "id": "2c25781c",
   "metadata": {},
   "outputs": [],
   "source": [
    "data = numpy.array(([[\"1\", \"Antônio de Souza\", \"(48) 99999-9999\", \"Rua João Albuquerde de Medeiros - 87, Criciúma\"], \n",
    "                     [\"2\", \"Roberta Cardoso\", \"(48) 99999-9999\", \"Rua Manuel José de Oliveira - 91, Içara\"], \n",
    "                     [\"3\", \"Roberval da Silva\", \"(48) 98888-8888\", \"Rua Dom Pedro II - 112, Gravatal\"],\n",
    "                     [\"4\", \"Claudia Fernandes\", \"(48) 97777-7777\", \"Rua Maria Albuquerque de Souza - 132, Cocal do Sul\"],\n",
    "                     [\"5\", \"Carlos Oliveira\", \"(48) 96666-6666\", \"Rua Queiros de Sá - 908, Braço do Norte\"],\n",
    "                     [\"6\", \"Antônio de Souza\", \"(48) 94444-4444\", \"Rua Almirante de Ipirajá - 137, Urussanga\"],]))\n",
    "\n",
    "provider = pandas.DataFrame(data, columns=['id', 'name', 'phone', 'adress'])"
   ]
  },
  {
   "cell_type": "code",
   "execution_count": 13,
   "id": "471f27c1",
   "metadata": {},
   "outputs": [
    {
     "data": {
      "text/html": [
       "<div>\n",
       "<style scoped>\n",
       "    .dataframe tbody tr th:only-of-type {\n",
       "        vertical-align: middle;\n",
       "    }\n",
       "\n",
       "    .dataframe tbody tr th {\n",
       "        vertical-align: top;\n",
       "    }\n",
       "\n",
       "    .dataframe thead th {\n",
       "        text-align: right;\n",
       "    }\n",
       "</style>\n",
       "<table border=\"1\" class=\"dataframe\">\n",
       "  <thead>\n",
       "    <tr style=\"text-align: right;\">\n",
       "      <th></th>\n",
       "      <th>id</th>\n",
       "      <th>name</th>\n",
       "      <th>phone</th>\n",
       "      <th>adress</th>\n",
       "    </tr>\n",
       "  </thead>\n",
       "  <tbody>\n",
       "    <tr>\n",
       "      <th>0</th>\n",
       "      <td>1</td>\n",
       "      <td>Antônio de Souza</td>\n",
       "      <td>(48) 99999-9999</td>\n",
       "      <td>Rua João Albuquerde de Medeiros - 87, Criciúma</td>\n",
       "    </tr>\n",
       "    <tr>\n",
       "      <th>1</th>\n",
       "      <td>2</td>\n",
       "      <td>Roberta Cardoso</td>\n",
       "      <td>(48) 99999-9999</td>\n",
       "      <td>Rua Manuel José de Oliveira - 91, Içara</td>\n",
       "    </tr>\n",
       "    <tr>\n",
       "      <th>2</th>\n",
       "      <td>3</td>\n",
       "      <td>Roberval da Silva</td>\n",
       "      <td>(48) 98888-8888</td>\n",
       "      <td>Rua Dom Pedro II - 112, Gravatal</td>\n",
       "    </tr>\n",
       "    <tr>\n",
       "      <th>3</th>\n",
       "      <td>4</td>\n",
       "      <td>Claudia Fernandes</td>\n",
       "      <td>(48) 97777-7777</td>\n",
       "      <td>Rua Maria Albuquerque de Souza - 132, Cocal do...</td>\n",
       "    </tr>\n",
       "    <tr>\n",
       "      <th>4</th>\n",
       "      <td>5</td>\n",
       "      <td>Carlos Oliveira</td>\n",
       "      <td>(48) 96666-6666</td>\n",
       "      <td>Rua Queiros de Sá - 908, Braço do Norte</td>\n",
       "    </tr>\n",
       "    <tr>\n",
       "      <th>5</th>\n",
       "      <td>6</td>\n",
       "      <td>Antônio de Souza</td>\n",
       "      <td>(48) 94444-4444</td>\n",
       "      <td>Rua Almirante de Ipirajá - 137, Urussanga</td>\n",
       "    </tr>\n",
       "  </tbody>\n",
       "</table>\n",
       "</div>"
      ],
      "text/plain": [
       "  id               name            phone  \\\n",
       "0  1   Antônio de Souza  (48) 99999-9999   \n",
       "1  2    Roberta Cardoso  (48) 99999-9999   \n",
       "2  3  Roberval da Silva  (48) 98888-8888   \n",
       "3  4  Claudia Fernandes  (48) 97777-7777   \n",
       "4  5    Carlos Oliveira  (48) 96666-6666   \n",
       "5  6   Antônio de Souza  (48) 94444-4444   \n",
       "\n",
       "                                              adress  \n",
       "0     Rua João Albuquerde de Medeiros - 87, Criciúma  \n",
       "1            Rua Manuel José de Oliveira - 91, Içara  \n",
       "2                   Rua Dom Pedro II - 112, Gravatal  \n",
       "3  Rua Maria Albuquerque de Souza - 132, Cocal do...  \n",
       "4            Rua Queiros de Sá - 908, Braço do Norte  \n",
       "5          Rua Almirante de Ipirajá - 137, Urussanga  "
      ]
     },
     "execution_count": 13,
     "metadata": {},
     "output_type": "execute_result"
    }
   ],
   "source": [
    "provider"
   ]
  },
  {
   "cell_type": "code",
   "execution_count": null,
   "id": "02d5fdce",
   "metadata": {},
   "outputs": [],
   "source": []
  }
 ],
 "metadata": {
  "kernelspec": {
   "display_name": "Python 3 (ipykernel)",
   "language": "python",
   "name": "python3"
  },
  "language_info": {
   "codemirror_mode": {
    "name": "ipython",
    "version": 3
   },
   "file_extension": ".py",
   "mimetype": "text/x-python",
   "name": "python",
   "nbconvert_exporter": "python",
   "pygments_lexer": "ipython3",
   "version": "3.9.7"
  }
 },
 "nbformat": 4,
 "nbformat_minor": 5
}
