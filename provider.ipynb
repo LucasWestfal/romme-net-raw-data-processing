{
 "cells": [
  {
   "cell_type": "code",
   "execution_count": 1,
   "id": "8c223361",
   "metadata": {},
   "outputs": [],
   "source": [
    "import pandas"
   ]
  },
  {
   "cell_type": "code",
   "execution_count": 2,
   "id": "540269ab",
   "metadata": {},
   "outputs": [],
   "source": [
    "import numpy"
   ]
  },
  {
   "cell_type": "code",
   "execution_count": 3,
   "id": "a7f81126",
   "metadata": {},
   "outputs": [],
   "source": [
    "# o banco de dados original nao possuia essa funcionalidade, fizemos esse campo artificialmente"
   ]
  },
  {
   "cell_type": "code",
   "execution_count": 4,
   "id": "d934c3d4",
   "metadata": {},
   "outputs": [],
   "source": [
    "# id, name, telefone, endereço"
   ]
  },
  {
   "cell_type": "code",
   "execution_count": 5,
   "id": "2c25781c",
   "metadata": {},
   "outputs": [],
   "source": [
    "data = numpy.array(([[\"1\", \"Antônio de Souza\", \"(48) 99999-9999\", \"Rua João Albuquerde de Medeiros - 87, Criciúma\"], \n",
    "                     [\"2\", \"Roberta Cardoso\", \"(48) 99999-9999\", \"Rua Manuel José de Oliveira - 91, Içara\"], \n",
    "                     [\"3\", \"Roberval da Silva\", \"(48) 98888-8888\", \"Rua Dom Pedro II - 112, Gravatal\"],\n",
    "                     [\"4\", \"Claudia Fernandes\", \"(48) 97777-7777\", \"Rua Maria Albuquerque de Souza - 132, Cocal do Sul\"],\n",
    "                     [\"5\", \"Carlos Oliveira\", \"(48) 96666-6666\", \"Rua Queiros de Sá - 908, Braço do Norte\"],\n",
    "                     [\"6\", \"Antônio de Souza\", \"(48) 94444-4444\", \"Rua Almirante de Ipirajá - 137, Urussanga\"],]))\n",
    "\n",
    "provider = pandas.DataFrame(data, columns=['id', 'name', 'phone', 'adress'])"
   ]
  },
  {
   "cell_type": "code",
   "execution_count": 6,
   "id": "471f27c1",
   "metadata": {},
   "outputs": [],
   "source": [
    "provider.to_csv('provider.csv')"
   ]
  },
  {
   "cell_type": "code",
   "execution_count": null,
   "id": "02d5fdce",
   "metadata": {},
   "outputs": [],
   "source": []
  }
 ],
 "metadata": {
  "kernelspec": {
   "display_name": "Python 3 (ipykernel)",
   "language": "python",
   "name": "python3"
  },
  "language_info": {
   "codemirror_mode": {
    "name": "ipython",
    "version": 3
   },
   "file_extension": ".py",
   "mimetype": "text/x-python",
   "name": "python",
   "nbconvert_exporter": "python",
   "pygments_lexer": "ipython3",
   "version": "3.9.7"
  }
 },
 "nbformat": 4,
 "nbformat_minor": 5
}
