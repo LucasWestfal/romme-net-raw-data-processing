{
 "cells": [
  {
   "cell_type": "code",
   "execution_count": 1,
   "id": "d1e1f235",
   "metadata": {},
   "outputs": [],
   "source": [
    "import pandas"
   ]
  },
  {
   "cell_type": "code",
   "execution_count": 2,
   "id": "8848ae6c",
   "metadata": {},
   "outputs": [],
   "source": [
    "material = pandas.read_csv(\"product.csv\")"
   ]
  },
  {
   "cell_type": "code",
   "execution_count": 3,
   "id": "6a1f25dc",
   "metadata": {},
   "outputs": [
    {
     "data": {
      "text/plain": [
       "Index(['id', 'description', 'sale_unit_id', 'sale_price', 'cost_price',\n",
       "       'category_id', 'notes', 'created_at'],\n",
       "      dtype='object')"
      ]
     },
     "execution_count": 3,
     "metadata": {},
     "output_type": "execute_result"
    }
   ],
   "source": [
    "material.columns"
   ]
  },
  {
   "cell_type": "code",
   "execution_count": 4,
   "id": "a41d0c7a",
   "metadata": {},
   "outputs": [],
   "source": [
    "material.drop(['sale_unit_id', \n",
    "              'sale_price', \n",
    "              'cost_price',\n",
    "              'notes', \n",
    "              'created_at'],\n",
    "  axis='columns', inplace=True)"
   ]
  },
  {
   "cell_type": "code",
   "execution_count": 5,
   "id": "14e243a6",
   "metadata": {},
   "outputs": [],
   "source": [
    "# agora finalizamos mudando o nome das colunas para os pré estabelecidos"
   ]
  },
  {
   "cell_type": "code",
   "execution_count": 6,
   "id": "a281d4fb",
   "metadata": {},
   "outputs": [],
   "source": [
    "material.columns = [\"id\", \"name\", \"category\"]"
   ]
  },
  {
   "cell_type": "code",
   "execution_count": 7,
   "id": "aa23b53f",
   "metadata": {},
   "outputs": [],
   "source": [
    "material.to_csv('material.csv')"
   ]
  }
 ],
 "metadata": {
  "kernelspec": {
   "display_name": "Python 3 (ipykernel)",
   "language": "python",
   "name": "python3"
  },
  "language_info": {
   "codemirror_mode": {
    "name": "ipython",
    "version": 3
   },
   "file_extension": ".py",
   "mimetype": "text/x-python",
   "name": "python",
   "nbconvert_exporter": "python",
   "pygments_lexer": "ipython3",
   "version": "3.9.7"
  }
 },
 "nbformat": 4,
 "nbformat_minor": 5
}
