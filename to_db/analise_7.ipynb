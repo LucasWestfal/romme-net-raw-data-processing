{
 "cells": [
  {
   "cell_type": "code",
   "execution_count": 1,
   "id": "9181850e",
   "metadata": {},
   "outputs": [],
   "source": [
    "# Qual é a densidade de dados em cada categoria?\n",
    "\n",
    "# importar dados - ocurrencies\n",
    "# tirar colunas inúteis\n",
    "# separar dados respectivos a cada category\n",
    "# plotar cada grupo de dados junto em linha"
   ]
  },
  {
   "cell_type": "code",
   "execution_count": 2,
   "id": "9dbf4eee",
   "metadata": {},
   "outputs": [],
   "source": [
    "# sites que podem ser uteis pra melhorar:\n",
    "\n",
    "# plotagem de multiplos graficos em plot unico: https://www.includehelp.com/python/types-of-dot-in-dot-plot.aspx"
   ]
  },
  {
   "cell_type": "code",
   "execution_count": 3,
   "id": "c11fe423",
   "metadata": {},
   "outputs": [],
   "source": [
    "import pandas as pd \n",
    "import numpy as np \n",
    "import matplotlib.pyplot as plt"
   ]
  },
  {
   "cell_type": "code",
   "execution_count": 4,
   "id": "14cea8fb",
   "metadata": {},
   "outputs": [],
   "source": [
    "bruto = pd.read_csv(\"ocurrencies.csv\")"
   ]
  },
  {
   "cell_type": "code",
   "execution_count": 5,
   "id": "88ae529e",
   "metadata": {},
   "outputs": [
    {
     "data": {
      "text/plain": [
       "Index(['Unnamed: 0', 'index', 'id', 'machine_id', 'material_cost',\n",
       "       'service_cost', 'total_cost', 'description', 'created_at',\n",
       "       'time_stopped', 'category'],\n",
       "      dtype='object')"
      ]
     },
     "execution_count": 5,
     "metadata": {},
     "output_type": "execute_result"
    }
   ],
   "source": [
    "bruto.columns"
   ]
  },
  {
   "cell_type": "code",
   "execution_count": 6,
   "id": "e04beba6",
   "metadata": {},
   "outputs": [],
   "source": [
    "bruto.drop(['Unnamed: 0', \n",
    "                  'index', \n",
    "                  'machine_id', \n",
    "                  'material_cost',\n",
    "                  'service_cost', \n",
    "                  'total_cost', \n",
    "                  'description', \n",
    "                  'created_at',\n",
    "                  'time_stopped'],\n",
    "  axis='columns', inplace=True)"
   ]
  },
  {
   "cell_type": "code",
   "execution_count": 7,
   "id": "fd7eaf55",
   "metadata": {},
   "outputs": [
    {
     "data": {
      "text/html": [
       "<div>\n",
       "<style scoped>\n",
       "    .dataframe tbody tr th:only-of-type {\n",
       "        vertical-align: middle;\n",
       "    }\n",
       "\n",
       "    .dataframe tbody tr th {\n",
       "        vertical-align: top;\n",
       "    }\n",
       "\n",
       "    .dataframe thead th {\n",
       "        text-align: right;\n",
       "    }\n",
       "</style>\n",
       "<table border=\"1\" class=\"dataframe\">\n",
       "  <thead>\n",
       "    <tr style=\"text-align: right;\">\n",
       "      <th></th>\n",
       "      <th>id</th>\n",
       "      <th>category</th>\n",
       "    </tr>\n",
       "  </thead>\n",
       "  <tbody>\n",
       "    <tr>\n",
       "      <th>0</th>\n",
       "      <td>209</td>\n",
       "      <td>2</td>\n",
       "    </tr>\n",
       "    <tr>\n",
       "      <th>1</th>\n",
       "      <td>210</td>\n",
       "      <td>2</td>\n",
       "    </tr>\n",
       "    <tr>\n",
       "      <th>2</th>\n",
       "      <td>211</td>\n",
       "      <td>2</td>\n",
       "    </tr>\n",
       "    <tr>\n",
       "      <th>3</th>\n",
       "      <td>212</td>\n",
       "      <td>2</td>\n",
       "    </tr>\n",
       "    <tr>\n",
       "      <th>4</th>\n",
       "      <td>213</td>\n",
       "      <td>3</td>\n",
       "    </tr>\n",
       "    <tr>\n",
       "      <th>...</th>\n",
       "      <td>...</td>\n",
       "      <td>...</td>\n",
       "    </tr>\n",
       "    <tr>\n",
       "      <th>364</th>\n",
       "      <td>574</td>\n",
       "      <td>2</td>\n",
       "    </tr>\n",
       "    <tr>\n",
       "      <th>365</th>\n",
       "      <td>575</td>\n",
       "      <td>2</td>\n",
       "    </tr>\n",
       "    <tr>\n",
       "      <th>366</th>\n",
       "      <td>576</td>\n",
       "      <td>2</td>\n",
       "    </tr>\n",
       "    <tr>\n",
       "      <th>367</th>\n",
       "      <td>577</td>\n",
       "      <td>3</td>\n",
       "    </tr>\n",
       "    <tr>\n",
       "      <th>368</th>\n",
       "      <td>578</td>\n",
       "      <td>2</td>\n",
       "    </tr>\n",
       "  </tbody>\n",
       "</table>\n",
       "<p>369 rows × 2 columns</p>\n",
       "</div>"
      ],
      "text/plain": [
       "      id  category\n",
       "0    209         2\n",
       "1    210         2\n",
       "2    211         2\n",
       "3    212         2\n",
       "4    213         3\n",
       "..   ...       ...\n",
       "364  574         2\n",
       "365  575         2\n",
       "366  576         2\n",
       "367  577         3\n",
       "368  578         2\n",
       "\n",
       "[369 rows x 2 columns]"
      ]
     },
     "execution_count": 7,
     "metadata": {},
     "output_type": "execute_result"
    }
   ],
   "source": [
    "bruto"
   ]
  },
  {
   "cell_type": "code",
   "execution_count": 8,
   "id": "fc293f18",
   "metadata": {},
   "outputs": [],
   "source": [
    "preventivo = bruto.loc[(bruto['category'] == 1)]"
   ]
  },
  {
   "cell_type": "code",
   "execution_count": 9,
   "id": "8ad96e99",
   "metadata": {},
   "outputs": [],
   "source": [
    "corretivo = bruto.loc[(bruto['category'] == 2)]"
   ]
  },
  {
   "cell_type": "code",
   "execution_count": 10,
   "id": "37289300",
   "metadata": {},
   "outputs": [],
   "source": [
    "melhoria = bruto.loc[(bruto['category'] == 3)]"
   ]
  },
  {
   "cell_type": "code",
   "execution_count": 11,
   "id": "442b7e75",
   "metadata": {},
   "outputs": [],
   "source": [
    "periodico = bruto.loc[(bruto['category'] == 4)]"
   ]
  },
  {
   "cell_type": "code",
   "execution_count": 12,
   "id": "a507ab26",
   "metadata": {},
   "outputs": [
    {
     "data": {
      "text/plain": [
       "[<matplotlib.lines.Line2D at 0x1c9238698b0>]"
      ]
     },
     "execution_count": 12,
     "metadata": {},
     "output_type": "execute_result"
    },
    {
     "data": {
      "image/png": "[encoded data removed]",
      "text/plain": [
       "<Figure size 432x288 with 1 Axes>"
      ]
     },
     "metadata": {
      "needs_background": "light"
     },
     "output_type": "display_data"
    }
   ],
   "source": [
    "plt.plot(preventivo[\"id\"].to_numpy(), np.arange(len(preventivo[\"id\"])), 'go-', label='line 1', linewidth=1)"
   ]
  },
  {
   "cell_type": "code",
   "execution_count": 13,
   "id": "5d9ed7be",
   "metadata": {},
   "outputs": [
    {
     "data": {
      "text/plain": [
       "[<matplotlib.lines.Line2D at 0x1c92597d610>]"
      ]
     },
     "execution_count": 13,
     "metadata": {},
     "output_type": "execute_result"
    },
    {
     "data": {
      "image/png": "[encoded data removed]",
      "text/plain": [
       "<Figure size 432x288 with 1 Axes>"
      ]
     },
     "metadata": {
      "needs_background": "light"
     },
     "output_type": "display_data"
    }
   ],
   "source": [
    "plt.plot(corretivo[\"id\"].to_numpy(), np.arange(len(corretivo[\"id\"])), 'go-', label='line 1', linewidth=1)"
   ]
  },
  {
   "cell_type": "code",
   "execution_count": 14,
   "id": "aae17d1c",
   "metadata": {},
   "outputs": [
    {
     "data": {
      "text/plain": [
       "[<matplotlib.lines.Line2D at 0x1c9259f4160>]"
      ]
     },
     "execution_count": 14,
     "metadata": {},
     "output_type": "execute_result"
    },
    {
     "data": {
      "image/png": "[encoded data removed]",
      "text/plain": [
       "<Figure size 432x288 with 1 Axes>"
      ]
     },
     "metadata": {
      "needs_background": "light"
     },
     "output_type": "display_data"
    }
   ],
   "source": [
    "plt.plot(melhoria[\"id\"].to_numpy(), np.arange(len(melhoria[\"id\"])), 'go-', label='line 1', linewidth=1)"
   ]
  },
  {
   "cell_type": "code",
   "execution_count": 15,
   "id": "1e6b32c3",
   "metadata": {},
   "outputs": [
    {
     "data": {
      "text/plain": [
       "[<matplotlib.lines.Line2D at 0x1c925a670d0>]"
      ]
     },
     "execution_count": 15,
     "metadata": {},
     "output_type": "execute_result"
    },
    {
     "data": {
      "image/png": "[encoded data removed]",
      "text/plain": [
       "<Figure size 432x288 with 1 Axes>"
      ]
     },
     "metadata": {
      "needs_background": "light"
     },
     "output_type": "display_data"
    }
   ],
   "source": [
    "plt.plot(periodico[\"id\"].to_numpy(), np.arange(len(periodico[\"id\"])), 'go-', label='line 1', linewidth=1)"
   ]
  },
  {
   "cell_type": "code",
   "execution_count": 17,
   "id": "84011f30",
   "metadata": {},
   "outputs": [],
   "source": [
    "# conclusão: \n",
    "# São pouquissimas e inconstantes as entradas de prevenção. \n",
    "# São várias e constantes as entradas de correção.\n",
    "# São inconstantes as entradas de melhoria, indicando um período sem tempo para melhoria\n",
    "# São constantes as entradas de periodico, indicando que os dados são bons (afinal, essas medidas são periódicas)"
   ]
  },
  {
   "cell_type": "code",
   "execution_count": null,
   "id": "8e3b2840",
   "metadata": {},
   "outputs": [],
   "source": []
  }
 ],
 "metadata": {
  "kernelspec": {
   "display_name": "Python 3 (ipykernel)",
   "language": "python",
   "name": "python3"
  },
  "language_info": {
   "codemirror_mode": {
    "name": "ipython",
    "version": 3
   },
   "file_extension": ".py",
   "mimetype": "text/x-python",
   "name": "python",
   "nbconvert_exporter": "python",
   "pygments_lexer": "ipython3",
   "version": "3.9.7"
  }
 },
 "nbformat": 4,
 "nbformat_minor": 5
}
