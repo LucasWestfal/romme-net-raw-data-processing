{
 "cells": [
  {
   "cell_type": "code",
   "execution_count": 1,
   "id": "adb5b0a5",
   "metadata": {},
   "outputs": [],
   "source": [
    "# Qual é a densidade de dados pra alguma máquina, tendo em vista o tempo como parâmetro?\n",
    "\n",
    "# importar dados\n",
    "# tirar colunas inúteis\n",
    "# escolher a maquina com mais entradas\n",
    "# descobrir o nome da maquina com mais entradas\n",
    "# separar dados respectivos à maquina\n",
    "# plotar dados em um histograma"
   ]
  },
  {
   "cell_type": "code",
   "execution_count": 2,
   "id": "9b071eaa",
   "metadata": {},
   "outputs": [],
   "source": [
    "import pandas as pd \n",
    "import numpy as np \n",
    "import matplotlib.pyplot as plt"
   ]
  },
  {
   "cell_type": "code",
   "execution_count": 3,
   "id": "d0094842",
   "metadata": {},
   "outputs": [],
   "source": [
    "ocurrencies = pd.read_csv('ocurrencies.csv')"
   ]
  },
  {
   "cell_type": "code",
   "execution_count": 4,
   "id": "7303ca15",
   "metadata": {},
   "outputs": [
    {
     "data": {
      "text/plain": [
       "Index(['Unnamed: 0', 'index', 'id', 'machine_id', 'material_cost',\n",
       "       'service_cost', 'total_cost', 'description', 'created_at',\n",
       "       'time_stopped', 'category'],\n",
       "      dtype='object')"
      ]
     },
     "execution_count": 4,
     "metadata": {},
     "output_type": "execute_result"
    }
   ],
   "source": [
    "ocurrencies.columns"
   ]
  },
  {
   "cell_type": "code",
   "execution_count": 5,
   "id": "187b5761",
   "metadata": {},
   "outputs": [],
   "source": [
    "ocurrencies.drop(['Unnamed: 0', 'index', 'id', 'material_cost',\n",
    "       'service_cost', 'total_cost', 'description',\n",
    "       'time_stopped', 'category'],\n",
    "  axis='columns', inplace=True)"
   ]
  },
  {
   "cell_type": "code",
   "execution_count": 15,
   "id": "65fe104b",
   "metadata": {},
   "outputs": [
    {
     "data": {
      "text/plain": [
       "24    46\n",
       "3     34\n",
       "2     29\n",
       "19    21\n",
       "12    16\n",
       "Name: machine_id, dtype: int64"
      ]
     },
     "execution_count": 15,
     "metadata": {},
     "output_type": "execute_result"
    }
   ],
   "source": [
    "# para achar a maquina que tem mais entradas\n",
    "ocurrencies[\"machine_id\"].value_counts().head()"
   ]
  },
  {
   "cell_type": "code",
   "execution_count": 16,
   "id": "6e9ffaf6",
   "metadata": {},
   "outputs": [],
   "source": [
    "# é a maquina 24. Qual é a maquina 24?"
   ]
  },
  {
   "cell_type": "code",
   "execution_count": 17,
   "id": "75093ba0",
   "metadata": {},
   "outputs": [],
   "source": [
    "machines = pd.read_csv(\"machines.csv\")"
   ]
  },
  {
   "cell_type": "code",
   "execution_count": 18,
   "id": "bc148f68",
   "metadata": {},
   "outputs": [
    {
     "data": {
      "text/html": [
       "<div>\n",
       "<style scoped>\n",
       "    .dataframe tbody tr th:only-of-type {\n",
       "        vertical-align: middle;\n",
       "    }\n",
       "\n",
       "    .dataframe tbody tr th {\n",
       "        vertical-align: top;\n",
       "    }\n",
       "\n",
       "    .dataframe thead th {\n",
       "        text-align: right;\n",
       "    }\n",
       "</style>\n",
       "<table border=\"1\" class=\"dataframe\">\n",
       "  <thead>\n",
       "    <tr style=\"text-align: right;\">\n",
       "      <th></th>\n",
       "      <th>Unnamed: 0</th>\n",
       "      <th>id</th>\n",
       "      <th>name</th>\n",
       "    </tr>\n",
       "  </thead>\n",
       "  <tbody>\n",
       "    <tr>\n",
       "      <th>0</th>\n",
       "      <td>0</td>\n",
       "      <td>1</td>\n",
       "      <td>Plastificadora De Vela</td>\n",
       "    </tr>\n",
       "    <tr>\n",
       "      <th>1</th>\n",
       "      <td>1</td>\n",
       "      <td>2</td>\n",
       "      <td>Envasadora Agua 2 L</td>\n",
       "    </tr>\n",
       "    <tr>\n",
       "      <th>2</th>\n",
       "      <td>2</td>\n",
       "      <td>3</td>\n",
       "      <td>Envasadora Agua 1 L</td>\n",
       "    </tr>\n",
       "    <tr>\n",
       "      <th>3</th>\n",
       "      <td>3</td>\n",
       "      <td>4</td>\n",
       "      <td>Envasadora Agua 5 L</td>\n",
       "    </tr>\n",
       "    <tr>\n",
       "      <th>4</th>\n",
       "      <td>4</td>\n",
       "      <td>5</td>\n",
       "      <td>Compressor Agua Sanitaria</td>\n",
       "    </tr>\n",
       "  </tbody>\n",
       "</table>\n",
       "</div>"
      ],
      "text/plain": [
       "   Unnamed: 0  id                       name\n",
       "0           0   1     Plastificadora De Vela\n",
       "1           1   2        Envasadora Agua 2 L\n",
       "2           2   3        Envasadora Agua 1 L\n",
       "3           3   4        Envasadora Agua 5 L\n",
       "4           4   5  Compressor Agua Sanitaria"
      ]
     },
     "execution_count": 18,
     "metadata": {},
     "output_type": "execute_result"
    }
   ],
   "source": [
    "machines.head()"
   ]
  },
  {
   "cell_type": "code",
   "execution_count": 70,
   "id": "1957536b",
   "metadata": {},
   "outputs": [
    {
     "data": {
      "text/html": [
       "<div>\n",
       "<style scoped>\n",
       "    .dataframe tbody tr th:only-of-type {\n",
       "        vertical-align: middle;\n",
       "    }\n",
       "\n",
       "    .dataframe tbody tr th {\n",
       "        vertical-align: top;\n",
       "    }\n",
       "\n",
       "    .dataframe thead th {\n",
       "        text-align: right;\n",
       "    }\n",
       "</style>\n",
       "<table border=\"1\" class=\"dataframe\">\n",
       "  <thead>\n",
       "    <tr style=\"text-align: right;\">\n",
       "      <th></th>\n",
       "      <th>Unnamed: 0</th>\n",
       "      <th>id</th>\n",
       "      <th>name</th>\n",
       "    </tr>\n",
       "  </thead>\n",
       "  <tbody>\n",
       "    <tr>\n",
       "      <th>23</th>\n",
       "      <td>23</td>\n",
       "      <td>24</td>\n",
       "      <td>Elaboração Agitadores / Tanques</td>\n",
       "    </tr>\n",
       "  </tbody>\n",
       "</table>\n",
       "</div>"
      ],
      "text/plain": [
       "    Unnamed: 0  id                             name\n",
       "23          23  24  Elaboração Agitadores / Tanques"
      ]
     },
     "execution_count": 70,
     "metadata": {},
     "output_type": "execute_result"
    }
   ],
   "source": [
    "index = machines[\"id\"] == 24\n",
    "machines[index]"
   ]
  },
  {
   "cell_type": "code",
   "execution_count": 71,
   "id": "c1d99e6d",
   "metadata": {},
   "outputs": [],
   "source": [
    "# chato. Qual é o proximo?"
   ]
  },
  {
   "cell_type": "code",
   "execution_count": 72,
   "id": "6be0fb7e",
   "metadata": {},
   "outputs": [
    {
     "data": {
      "text/html": [
       "<div>\n",
       "<style scoped>\n",
       "    .dataframe tbody tr th:only-of-type {\n",
       "        vertical-align: middle;\n",
       "    }\n",
       "\n",
       "    .dataframe tbody tr th {\n",
       "        vertical-align: top;\n",
       "    }\n",
       "\n",
       "    .dataframe thead th {\n",
       "        text-align: right;\n",
       "    }\n",
       "</style>\n",
       "<table border=\"1\" class=\"dataframe\">\n",
       "  <thead>\n",
       "    <tr style=\"text-align: right;\">\n",
       "      <th></th>\n",
       "      <th>Unnamed: 0</th>\n",
       "      <th>id</th>\n",
       "      <th>name</th>\n",
       "    </tr>\n",
       "  </thead>\n",
       "  <tbody>\n",
       "    <tr>\n",
       "      <th>2</th>\n",
       "      <td>2</td>\n",
       "      <td>3</td>\n",
       "      <td>Envasadora Agua 1 L</td>\n",
       "    </tr>\n",
       "  </tbody>\n",
       "</table>\n",
       "</div>"
      ],
      "text/plain": [
       "   Unnamed: 0  id                 name\n",
       "2           2   3  Envasadora Agua 1 L"
      ]
     },
     "execution_count": 72,
     "metadata": {},
     "output_type": "execute_result"
    }
   ],
   "source": [
    "index = machines[\"id\"] == 3\n",
    "machines[index]"
   ]
  },
  {
   "cell_type": "code",
   "execution_count": 24,
   "id": "b666d99d",
   "metadata": {},
   "outputs": [],
   "source": [
    "# agora, qual é a distribuição dessas maquinas ao longo do tempo?"
   ]
  },
  {
   "cell_type": "code",
   "execution_count": 74,
   "id": "6adf15d1",
   "metadata": {},
   "outputs": [],
   "source": [
    "machine_24 = ocurrencies.loc[(ocurrencies['machine_id'] == 24)]\n",
    "machine_3 = ocurrencies.loc[(ocurrencies['machine_id'] == 3)]"
   ]
  },
  {
   "cell_type": "code",
   "execution_count": 29,
   "id": "82b443c6",
   "metadata": {},
   "outputs": [
    {
     "data": {
      "text/html": [
       "<div>\n",
       "<style scoped>\n",
       "    .dataframe tbody tr th:only-of-type {\n",
       "        vertical-align: middle;\n",
       "    }\n",
       "\n",
       "    .dataframe tbody tr th {\n",
       "        vertical-align: top;\n",
       "    }\n",
       "\n",
       "    .dataframe thead th {\n",
       "        text-align: right;\n",
       "    }\n",
       "</style>\n",
       "<table border=\"1\" class=\"dataframe\">\n",
       "  <thead>\n",
       "    <tr style=\"text-align: right;\">\n",
       "      <th></th>\n",
       "      <th>machine_id</th>\n",
       "      <th>created_at</th>\n",
       "      <th>index</th>\n",
       "    </tr>\n",
       "  </thead>\n",
       "  <tbody>\n",
       "    <tr>\n",
       "      <th>0</th>\n",
       "      <td>24</td>\n",
       "      <td>1614870043165</td>\n",
       "      <td>0</td>\n",
       "    </tr>\n",
       "    <tr>\n",
       "      <th>1</th>\n",
       "      <td>24</td>\n",
       "      <td>1614953386829</td>\n",
       "      <td>1</td>\n",
       "    </tr>\n",
       "    <tr>\n",
       "      <th>6</th>\n",
       "      <td>24</td>\n",
       "      <td>1605288858007</td>\n",
       "      <td>2</td>\n",
       "    </tr>\n",
       "    <tr>\n",
       "      <th>17</th>\n",
       "      <td>24</td>\n",
       "      <td>1614614443477</td>\n",
       "      <td>3</td>\n",
       "    </tr>\n",
       "    <tr>\n",
       "      <th>19</th>\n",
       "      <td>24</td>\n",
       "      <td>1614614536210</td>\n",
       "      <td>4</td>\n",
       "    </tr>\n",
       "  </tbody>\n",
       "</table>\n",
       "</div>"
      ],
      "text/plain": [
       "    machine_id     created_at  index\n",
       "0           24  1614870043165      0\n",
       "1           24  1614953386829      1\n",
       "6           24  1605288858007      2\n",
       "17          24  1614614443477      3\n",
       "19          24  1614614536210      4"
      ]
     },
     "execution_count": 29,
     "metadata": {},
     "output_type": "execute_result"
    }
   ],
   "source": [
    "machine_24.head()"
   ]
  },
  {
   "cell_type": "code",
   "execution_count": 31,
   "id": "e6a9fe11",
   "metadata": {},
   "outputs": [],
   "source": [
    "#plt.bar(machine_24[\"index\"].to_numpy(), machine_24[\"created_at\"].to_numpy(), color = \"red\")"
   ]
  },
  {
   "cell_type": "code",
   "execution_count": 77,
   "id": "21b7b94d",
   "metadata": {},
   "outputs": [
    {
     "data": {
      "text/plain": [
       "(array([3.11794393e-11, 2.18256075e-10, 3.11794393e-10, 9.35383178e-11,\n",
       "        0.00000000e+00, 0.00000000e+00, 0.00000000e+00, 0.00000000e+00,\n",
       "        0.00000000e+00, 0.00000000e+00, 0.00000000e+00, 0.00000000e+00,\n",
       "        1.24717757e-10, 3.42973832e-10, 1.55897196e-10, 9.35383178e-11,\n",
       "        0.00000000e+00, 0.00000000e+00, 0.00000000e+00, 0.00000000e+00,\n",
       "        0.00000000e+00, 0.00000000e+00, 0.00000000e+00, 0.00000000e+00,\n",
       "        0.00000000e+00, 0.00000000e+00, 0.00000000e+00, 0.00000000e+00,\n",
       "        3.11794393e-11, 3.11794393e-11]),\n",
       " array([1.60528886e+12, 1.60598608e+12, 1.60668331e+12, 1.60738054e+12,\n",
       "        1.60807776e+12, 1.60877499e+12, 1.60947222e+12, 1.61016944e+12,\n",
       "        1.61086667e+12, 1.61156390e+12, 1.61226112e+12, 1.61295835e+12,\n",
       "        1.61365558e+12, 1.61435280e+12, 1.61505003e+12, 1.61574726e+12,\n",
       "        1.61644448e+12, 1.61714171e+12, 1.61783893e+12, 1.61853616e+12,\n",
       "        1.61923339e+12, 1.61993061e+12, 1.62062784e+12, 1.62132507e+12,\n",
       "        1.62202229e+12, 1.62271952e+12, 1.62341675e+12, 1.62411397e+12,\n",
       "        1.62481120e+12, 1.62550843e+12, 1.62620565e+12]),\n",
       " <BarContainer object of 30 artists>)"
      ]
     },
     "execution_count": 77,
     "metadata": {},
     "output_type": "execute_result"
    },
    {
     "data": {
      "image/png": "[encoded data removed]",
      "text/plain": [
       "<Figure size 432x288 with 1 Axes>"
      ]
     },
     "metadata": {
      "needs_background": "light"
     },
     "output_type": "display_data"
    }
   ],
   "source": [
    "plt.hist(machine_24[\"created_at\"].to_numpy(), density=True, bins=30)"
   ]
  },
  {
   "cell_type": "code",
   "execution_count": 75,
   "id": "5ca0e550",
   "metadata": {},
   "outputs": [
    {
     "data": {
      "text/plain": [
       "(array([2.07643673e-10, 2.07643673e-10, 2.07643673e-10, 0.00000000e+00,\n",
       "        0.00000000e+00, 4.15287346e-11, 0.00000000e+00, 0.00000000e+00,\n",
       "        0.00000000e+00, 0.00000000e+00, 4.15287346e-11, 2.07643673e-10,\n",
       "        8.30574693e-11, 1.24586204e-10, 0.00000000e+00, 4.15287346e-11,\n",
       "        0.00000000e+00, 0.00000000e+00, 1.24586204e-10, 0.00000000e+00,\n",
       "        0.00000000e+00, 8.30574693e-11, 0.00000000e+00, 0.00000000e+00,\n",
       "        0.00000000e+00, 0.00000000e+00, 0.00000000e+00, 0.00000000e+00,\n",
       "        0.00000000e+00, 4.15287346e-11]),\n",
       " array([1.60580736e+12, 1.60651558e+12, 1.60722381e+12, 1.60793204e+12,\n",
       "        1.60864026e+12, 1.60934849e+12, 1.61005672e+12, 1.61076494e+12,\n",
       "        1.61147317e+12, 1.61218140e+12, 1.61288963e+12, 1.61359785e+12,\n",
       "        1.61430608e+12, 1.61501431e+12, 1.61572253e+12, 1.61643076e+12,\n",
       "        1.61713899e+12, 1.61784721e+12, 1.61855544e+12, 1.61926367e+12,\n",
       "        1.61997189e+12, 1.62068012e+12, 1.62138835e+12, 1.62209657e+12,\n",
       "        1.62280480e+12, 1.62351303e+12, 1.62422125e+12, 1.62492948e+12,\n",
       "        1.62563771e+12, 1.62634594e+12, 1.62705416e+12]),\n",
       " <BarContainer object of 30 artists>)"
      ]
     },
     "execution_count": 75,
     "metadata": {},
     "output_type": "execute_result"
    },
    {
     "data": {
      "image/png": "[encoded data removed]",
      "text/plain": [
       "<Figure size 432x288 with 1 Axes>"
      ]
     },
     "metadata": {
      "needs_background": "light"
     },
     "output_type": "display_data"
    }
   ],
   "source": [
    "plt.hist(machine_3[\"created_at\"].to_numpy(), density=True, bins=30)"
   ]
  },
  {
   "cell_type": "code",
   "execution_count": 76,
   "id": "7c748a54",
   "metadata": {},
   "outputs": [],
   "source": [
    "# conclusão machine 24: vimos três momentos em que as ocorrencias dessa maquina se aglomeram. Isso é, houveram três\n",
    "# momentos em que se fabricaram muitos tanques.\n",
    "\n",
    "# conclusão machine 3: existem varias ocorrencias no começo dos dados, algumas ocorrencias relativamente bem distribuidas \n",
    "# tempo medio e um bom período sem ocorrencias seguindo. Isso é, a manuntenção nessa maquina é constante com alguns momentos de \n",
    "# hiato."
   ]
  }
 ],
 "metadata": {
  "kernelspec": {
   "display_name": "Python 3 (ipykernel)",
   "language": "python",
   "name": "python3"
  },
  "language_info": {
   "codemirror_mode": {
    "name": "ipython",
    "version": 3
   },
   "file_extension": ".py",
   "mimetype": "text/x-python",
   "name": "python",
   "nbconvert_exporter": "python",
   "pygments_lexer": "ipython3",
   "version": "3.9.7"
  }
 },
 "nbformat": 4,
 "nbformat_minor": 5
}
