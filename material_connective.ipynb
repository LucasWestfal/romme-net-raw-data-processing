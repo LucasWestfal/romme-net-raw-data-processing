{
 "cells": [
  {
   "cell_type": "code",
   "execution_count": 1,
   "id": "f947ea6c",
   "metadata": {},
   "outputs": [],
   "source": [
    "import pandas"
   ]
  },
  {
   "cell_type": "code",
   "execution_count": 2,
   "id": "401c5f65",
   "metadata": {},
   "outputs": [],
   "source": [
    "material_conective = pandas.read_csv(\"service_order_item.csv\")"
   ]
  },
  {
   "cell_type": "code",
   "execution_count": 3,
   "id": "8bf42edd",
   "metadata": {},
   "outputs": [
    {
     "data": {
      "text/plain": [
       "Index(['id', 'service_order_id', 'product_id', 'service_id', 'price',\n",
       "       'quantity', 'amount'],\n",
       "      dtype='object')"
      ]
     },
     "execution_count": 3,
     "metadata": {},
     "output_type": "execute_result"
    }
   ],
   "source": [
    "material_conective.columns"
   ]
  },
  {
   "cell_type": "code",
   "execution_count": 4,
   "id": "98786fd6",
   "metadata": {},
   "outputs": [],
   "source": [
    "material_conective.drop(['id',\n",
    "                         'service_id',\n",
    "                         'price',\n",
    "                         'quantity'],\n",
    "  axis='columns', inplace=True)"
   ]
  },
  {
   "cell_type": "code",
   "execution_count": 5,
   "id": "10b217d9",
   "metadata": {},
   "outputs": [],
   "source": [
    "# agora finalizamos mudando o nome das colunas para os pré estabelecidos"
   ]
  },
  {
   "cell_type": "code",
   "execution_count": 6,
   "id": "09a34ad6",
   "metadata": {},
   "outputs": [],
   "source": [
    "material_conective.columns = [\"service_order_id\", \"material_id\", \"amout\"]"
   ]
  },
  {
   "cell_type": "code",
   "execution_count": 7,
   "id": "f6af8b27",
   "metadata": {},
   "outputs": [],
   "source": [
    "material_conective.to_csv('material_conective.csv')"
   ]
  },
  {
   "cell_type": "code",
   "execution_count": null,
   "id": "5b546d6b",
   "metadata": {},
   "outputs": [],
   "source": []
  }
 ],
 "metadata": {
  "kernelspec": {
   "display_name": "Python 3 (ipykernel)",
   "language": "python",
   "name": "python3"
  },
  "language_info": {
   "codemirror_mode": {
    "name": "ipython",
    "version": 3
   },
   "file_extension": ".py",
   "mimetype": "text/x-python",
   "name": "python",
   "nbconvert_exporter": "python",
   "pygments_lexer": "ipython3",
   "version": "3.9.7"
  }
 },
 "nbformat": 4,
 "nbformat_minor": 5
}
