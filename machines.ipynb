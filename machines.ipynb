{
 "cells": [
  {
   "cell_type": "code",
   "execution_count": 1,
   "id": "74cc194c",
   "metadata": {},
   "outputs": [],
   "source": [
    "import pandas"
   ]
  },
  {
   "cell_type": "code",
   "execution_count": 2,
   "id": "66cc6484",
   "metadata": {},
   "outputs": [],
   "source": [
    "machines = pandas.read_csv(\"customer.csv\")"
   ]
  },
  {
   "cell_type": "code",
   "execution_count": 3,
   "id": "0a1245a6",
   "metadata": {},
   "outputs": [
    {
     "data": {
      "text/plain": [
       "Index(['id', 'person_type', 'company_name', 'trade_name', 'cnpj_cpf', 'ie',\n",
       "       'notes', 'created_at', 'phone', 'mobile', 'email', 'address',\n",
       "       'address_number', 'district', 'complement', 'zip', 'city_id'],\n",
       "      dtype='object')"
      ]
     },
     "execution_count": 3,
     "metadata": {},
     "output_type": "execute_result"
    }
   ],
   "source": [
    "machines.columns"
   ]
  },
  {
   "cell_type": "code",
   "execution_count": 4,
   "id": "0947e06f",
   "metadata": {},
   "outputs": [],
   "source": [
    "machines.drop(['person_type', \n",
    "               'trade_name', \n",
    "               'cnpj_cpf', \n",
    "               'ie',\n",
    "               'notes', \n",
    "               'created_at', \n",
    "               'phone', \n",
    "               'mobile', \n",
    "               'email', \n",
    "               'address',\n",
    "               'address_number', \n",
    "               'district', \n",
    "               'complement', \n",
    "               'zip', \n",
    "               'city_id'],\n",
    "  axis='columns', inplace=True)"
   ]
  },
  {
   "cell_type": "code",
   "execution_count": 5,
   "id": "91c3aa18",
   "metadata": {},
   "outputs": [],
   "source": [
    "# agora finalizamos mudando o nome das colunas para os pré estabelecidos"
   ]
  },
  {
   "cell_type": "code",
   "execution_count": 6,
   "id": "7a2ad66f",
   "metadata": {},
   "outputs": [],
   "source": [
    "machines.columns = [\"id\", \"name\"]"
   ]
  },
  {
   "cell_type": "code",
   "execution_count": 7,
   "id": "48319b08",
   "metadata": {},
   "outputs": [],
   "source": [
    "machines.to_csv('machines.csv')"
   ]
  }
 ],
 "metadata": {
  "kernelspec": {
   "display_name": "Python 3 (ipykernel)",
   "language": "python",
   "name": "python3"
  },
  "language_info": {
   "codemirror_mode": {
    "name": "ipython",
    "version": 3
   },
   "file_extension": ".py",
   "mimetype": "text/x-python",
   "name": "python",
   "nbconvert_exporter": "python",
   "pygments_lexer": "ipython3",
   "version": "3.9.7"
  }
 },
 "nbformat": 4,
 "nbformat_minor": 5
}
