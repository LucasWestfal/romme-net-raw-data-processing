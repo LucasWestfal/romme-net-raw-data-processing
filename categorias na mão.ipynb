{
 "cells": [
  {
   "cell_type": "code",
   "execution_count": 1,
   "id": "2c2812b7",
   "metadata": {},
   "outputs": [],
   "source": [
    "import pandas"
   ]
  },
  {
   "cell_type": "code",
   "execution_count": 2,
   "id": "f4eb00a5",
   "metadata": {},
   "outputs": [],
   "source": [
    "import numpy"
   ]
  },
  {
   "cell_type": "code",
   "execution_count": 3,
   "id": "a74bacd8",
   "metadata": {},
   "outputs": [],
   "source": [
    "ocurrencies = pandas.read_csv('ocurrencies.csv')"
   ]
  },
  {
   "cell_type": "code",
   "execution_count": 4,
   "id": "efc347b8",
   "metadata": {},
   "outputs": [
    {
     "data": {
      "text/html": [
       "<div>\n",
       "<style scoped>\n",
       "    .dataframe tbody tr th:only-of-type {\n",
       "        vertical-align: middle;\n",
       "    }\n",
       "\n",
       "    .dataframe tbody tr th {\n",
       "        vertical-align: top;\n",
       "    }\n",
       "\n",
       "    .dataframe thead th {\n",
       "        text-align: right;\n",
       "    }\n",
       "</style>\n",
       "<table border=\"1\" class=\"dataframe\">\n",
       "  <thead>\n",
       "    <tr style=\"text-align: right;\">\n",
       "      <th></th>\n",
       "      <th>Unnamed: 0</th>\n",
       "      <th>id</th>\n",
       "      <th>machine_id</th>\n",
       "      <th>material_cost</th>\n",
       "      <th>service_cost</th>\n",
       "      <th>total_cost</th>\n",
       "      <th>description</th>\n",
       "      <th>created_at</th>\n",
       "      <th>time_stopped</th>\n",
       "      <th>category</th>\n",
       "    </tr>\n",
       "  </thead>\n",
       "  <tbody>\n",
       "    <tr>\n",
       "      <th>0</th>\n",
       "      <td>0</td>\n",
       "      <td>209</td>\n",
       "      <td>24</td>\n",
       "      <td>0.0</td>\n",
       "      <td>0.0</td>\n",
       "      <td>0.0</td>\n",
       "      <td>tanque 3 água sanitária: prender</td>\n",
       "      <td>1614870043165</td>\n",
       "      <td>2.0</td>\n",
       "      <td>2.0</td>\n",
       "    </tr>\n",
       "    <tr>\n",
       "      <th>1</th>\n",
       "      <td>1</td>\n",
       "      <td>210</td>\n",
       "      <td>24</td>\n",
       "      <td>0.0</td>\n",
       "      <td>0.0</td>\n",
       "      <td>0.0</td>\n",
       "      <td>rede de água / água sanitária: trocar</td>\n",
       "      <td>1614953386829</td>\n",
       "      <td>2.0</td>\n",
       "      <td>2.0</td>\n",
       "    </tr>\n",
       "    <tr>\n",
       "      <th>2</th>\n",
       "      <td>2</td>\n",
       "      <td>211</td>\n",
       "      <td>20</td>\n",
       "      <td>0.0</td>\n",
       "      <td>0.0</td>\n",
       "      <td>0.0</td>\n",
       "      <td>tubulação do sem cloro: trocar registro 32 mm</td>\n",
       "      <td>1615406152935</td>\n",
       "      <td>5.0</td>\n",
       "      <td>2.0</td>\n",
       "    </tr>\n",
       "    <tr>\n",
       "      <th>3</th>\n",
       "      <td>3</td>\n",
       "      <td>212</td>\n",
       "      <td>1</td>\n",
       "      <td>0.0</td>\n",
       "      <td>0.0</td>\n",
       "      <td>0.0</td>\n",
       "      <td>embaladora de vela: regulagem</td>\n",
       "      <td>1605204968378</td>\n",
       "      <td>5.0</td>\n",
       "      <td>2.0</td>\n",
       "    </tr>\n",
       "    <tr>\n",
       "      <th>4</th>\n",
       "      <td>4</td>\n",
       "      <td>213</td>\n",
       "      <td>51</td>\n",
       "      <td>0.0</td>\n",
       "      <td>0.0</td>\n",
       "      <td>0.0</td>\n",
       "      <td>placa advertência prensa papelão: prender com ...</td>\n",
       "      <td>1605205111304</td>\n",
       "      <td>6.0</td>\n",
       "      <td>2.0</td>\n",
       "    </tr>\n",
       "  </tbody>\n",
       "</table>\n",
       "</div>"
      ],
      "text/plain": [
       "   Unnamed: 0   id  machine_id  material_cost  service_cost  total_cost  \\\n",
       "0           0  209          24            0.0           0.0         0.0   \n",
       "1           1  210          24            0.0           0.0         0.0   \n",
       "2           2  211          20            0.0           0.0         0.0   \n",
       "3           3  212           1            0.0           0.0         0.0   \n",
       "4           4  213          51            0.0           0.0         0.0   \n",
       "\n",
       "                                         description     created_at  \\\n",
       "0                  tanque 3 água sanitária: prender   1614870043165   \n",
       "1             rede de água / água sanitária: trocar   1614953386829   \n",
       "2     tubulação do sem cloro: trocar registro 32 mm   1615406152935   \n",
       "3                     embaladora de vela: regulagem   1605204968378   \n",
       "4  placa advertência prensa papelão: prender com ...  1605205111304   \n",
       "\n",
       "   time_stopped  category  \n",
       "0           2.0       2.0  \n",
       "1           2.0       2.0  \n",
       "2           5.0       2.0  \n",
       "3           5.0       2.0  \n",
       "4           6.0       2.0  "
      ]
     },
     "execution_count": 4,
     "metadata": {},
     "output_type": "execute_result"
    }
   ],
   "source": [
    "ocurrencies.head()"
   ]
  },
  {
   "cell_type": "code",
   "execution_count": 5,
   "id": "8f7798d5",
   "metadata": {},
   "outputs": [
    {
     "data": {
      "text/plain": [
       "Index(['Unnamed: 0', 'id', 'machine_id', 'material_cost', 'service_cost',\n",
       "       'total_cost', 'description', 'created_at', 'time_stopped', 'category'],\n",
       "      dtype='object')"
      ]
     },
     "execution_count": 5,
     "metadata": {},
     "output_type": "execute_result"
    }
   ],
   "source": [
    "ocurrencies.columns"
   ]
  },
  {
   "cell_type": "code",
   "execution_count": 6,
   "id": "f8d1b328",
   "metadata": {},
   "outputs": [],
   "source": [
    "ocurrencies.drop(['Unnamed: 0', \n",
    "                  'machine_id', \n",
    "                  'material_cost', \n",
    "                  'service_cost',\n",
    "                  'total_cost', \n",
    "                  'description', \n",
    "                  'created_at', \n",
    "                  'time_stopped'],\n",
    "  axis='columns', inplace=True)"
   ]
  },
  {
   "cell_type": "code",
   "execution_count": 7,
   "id": "9fef73bd",
   "metadata": {},
   "outputs": [
    {
     "data": {
      "text/html": [
       "<div>\n",
       "<style scoped>\n",
       "    .dataframe tbody tr th:only-of-type {\n",
       "        vertical-align: middle;\n",
       "    }\n",
       "\n",
       "    .dataframe tbody tr th {\n",
       "        vertical-align: top;\n",
       "    }\n",
       "\n",
       "    .dataframe thead th {\n",
       "        text-align: right;\n",
       "    }\n",
       "</style>\n",
       "<table border=\"1\" class=\"dataframe\">\n",
       "  <thead>\n",
       "    <tr style=\"text-align: right;\">\n",
       "      <th></th>\n",
       "      <th>id</th>\n",
       "      <th>category</th>\n",
       "    </tr>\n",
       "  </thead>\n",
       "  <tbody>\n",
       "    <tr>\n",
       "      <th>0</th>\n",
       "      <td>209</td>\n",
       "      <td>2.0</td>\n",
       "    </tr>\n",
       "    <tr>\n",
       "      <th>1</th>\n",
       "      <td>210</td>\n",
       "      <td>2.0</td>\n",
       "    </tr>\n",
       "    <tr>\n",
       "      <th>2</th>\n",
       "      <td>211</td>\n",
       "      <td>2.0</td>\n",
       "    </tr>\n",
       "    <tr>\n",
       "      <th>3</th>\n",
       "      <td>212</td>\n",
       "      <td>2.0</td>\n",
       "    </tr>\n",
       "    <tr>\n",
       "      <th>4</th>\n",
       "      <td>213</td>\n",
       "      <td>2.0</td>\n",
       "    </tr>\n",
       "  </tbody>\n",
       "</table>\n",
       "</div>"
      ],
      "text/plain": [
       "    id  category\n",
       "0  209       2.0\n",
       "1  210       2.0\n",
       "2  211       2.0\n",
       "3  212       2.0\n",
       "4  213       2.0"
      ]
     },
     "execution_count": 7,
     "metadata": {},
     "output_type": "execute_result"
    }
   ],
   "source": [
    "ocurrencies.head()"
   ]
  },
  {
   "cell_type": "code",
   "execution_count": 8,
   "id": "fee3b1fa",
   "metadata": {},
   "outputs": [],
   "source": [
    "ocurrencies.to_csv('categories_na_mon.csv')"
   ]
  },
  {
   "cell_type": "code",
   "execution_count": null,
   "id": "72414fcb",
   "metadata": {},
   "outputs": [],
   "source": []
  }
 ],
 "metadata": {
  "kernelspec": {
   "display_name": "Python 3 (ipykernel)",
   "language": "python",
   "name": "python3"
  },
  "language_info": {
   "codemirror_mode": {
    "name": "ipython",
    "version": 3
   },
   "file_extension": ".py",
   "mimetype": "text/x-python",
   "name": "python",
   "nbconvert_exporter": "python",
   "pygments_lexer": "ipython3",
   "version": "3.9.7"
  }
 },
 "nbformat": 4,
 "nbformat_minor": 5
}
