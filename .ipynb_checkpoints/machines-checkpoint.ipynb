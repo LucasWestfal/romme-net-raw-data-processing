{
 "cells": [
  {
   "cell_type": "code",
   "execution_count": 1,
   "id": "74cc194c",
   "metadata": {},
   "outputs": [],
   "source": [
    "import pandas"
   ]
  },
  {
   "cell_type": "code",
   "execution_count": 2,
   "id": "66cc6484",
   "metadata": {},
   "outputs": [],
   "source": [
    "machines = pandas.read_csv(\"customer.csv\")"
   ]
  },
  {
   "cell_type": "code",
   "execution_count": 3,
   "id": "0a1245a6",
   "metadata": {},
   "outputs": [
    {
     "data": {
      "text/plain": [
       "Index(['id', 'person_type', 'company_name', 'trade_name', 'cnpj_cpf', 'ie',\n",
       "       'notes', 'created_at', 'phone', 'mobile', 'email', 'address',\n",
       "       'address_number', 'district', 'complement', 'zip', 'city_id'],\n",
       "      dtype='object')"
      ]
     },
     "execution_count": 3,
     "metadata": {},
     "output_type": "execute_result"
    }
   ],
   "source": [
    "machines.columns"
   ]
  },
  {
   "cell_type": "code",
   "execution_count": 4,
   "id": "0947e06f",
   "metadata": {},
   "outputs": [],
   "source": [
    "machines.drop(['person_type', \n",
    "               'trade_name', \n",
    "               'cnpj_cpf', \n",
    "               'ie',\n",
    "               'notes', \n",
    "               'created_at', \n",
    "               'phone', \n",
    "               'mobile', \n",
    "               'email', \n",
    "               'address',\n",
    "               'address_number', \n",
    "               'district', \n",
    "               'complement', \n",
    "               'zip', \n",
    "               'city_id'],\n",
    "  axis='columns', inplace=True)"
   ]
  },
  {
   "cell_type": "code",
   "execution_count": 7,
   "id": "7a2ad66f",
   "metadata": {},
   "outputs": [],
   "source": [
    "machines.columns = [\"id\", \"name\"]"
   ]
  },
  {
   "cell_type": "code",
   "execution_count": 8,
   "id": "48319b08",
   "metadata": {},
   "outputs": [
    {
     "data": {
      "text/html": [
       "<div>\n",
       "<style scoped>\n",
       "    .dataframe tbody tr th:only-of-type {\n",
       "        vertical-align: middle;\n",
       "    }\n",
       "\n",
       "    .dataframe tbody tr th {\n",
       "        vertical-align: top;\n",
       "    }\n",
       "\n",
       "    .dataframe thead th {\n",
       "        text-align: right;\n",
       "    }\n",
       "</style>\n",
       "<table border=\"1\" class=\"dataframe\">\n",
       "  <thead>\n",
       "    <tr style=\"text-align: right;\">\n",
       "      <th></th>\n",
       "      <th>id</th>\n",
       "      <th>name</th>\n",
       "    </tr>\n",
       "  </thead>\n",
       "  <tbody>\n",
       "    <tr>\n",
       "      <th>0</th>\n",
       "      <td>1</td>\n",
       "      <td>Plastificadora De Vela</td>\n",
       "    </tr>\n",
       "    <tr>\n",
       "      <th>1</th>\n",
       "      <td>2</td>\n",
       "      <td>Envasadora Agua 2 L</td>\n",
       "    </tr>\n",
       "    <tr>\n",
       "      <th>2</th>\n",
       "      <td>3</td>\n",
       "      <td>Envasadora Agua 1 L</td>\n",
       "    </tr>\n",
       "    <tr>\n",
       "      <th>3</th>\n",
       "      <td>4</td>\n",
       "      <td>Envasadora Agua 5 L</td>\n",
       "    </tr>\n",
       "    <tr>\n",
       "      <th>4</th>\n",
       "      <td>5</td>\n",
       "      <td>Compressor Agua Sanitaria</td>\n",
       "    </tr>\n",
       "  </tbody>\n",
       "</table>\n",
       "</div>"
      ],
      "text/plain": [
       "   id                       name\n",
       "0   1     Plastificadora De Vela\n",
       "1   2        Envasadora Agua 2 L\n",
       "2   3        Envasadora Agua 1 L\n",
       "3   4        Envasadora Agua 5 L\n",
       "4   5  Compressor Agua Sanitaria"
      ]
     },
     "execution_count": 8,
     "metadata": {},
     "output_type": "execute_result"
    }
   ],
   "source": [
    "machines.head()"
   ]
  },
  {
   "cell_type": "code",
   "execution_count": null,
   "id": "91c3aa18",
   "metadata": {},
   "outputs": [],
   "source": []
  }
 ],
 "metadata": {
  "kernelspec": {
   "display_name": "Python 3 (ipykernel)",
   "language": "python",
   "name": "python3"
  },
  "language_info": {
   "codemirror_mode": {
    "name": "ipython",
    "version": 3
   },
   "file_extension": ".py",
   "mimetype": "text/x-python",
   "name": "python",
   "nbconvert_exporter": "python",
   "pygments_lexer": "ipython3",
   "version": "3.9.7"
  }
 },
 "nbformat": 4,
 "nbformat_minor": 5
}
