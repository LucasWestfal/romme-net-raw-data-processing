{
 "cells": [
  {
   "cell_type": "code",
   "execution_count": 1,
   "id": "f947ea6c",
   "metadata": {},
   "outputs": [],
   "source": [
    "import pandas"
   ]
  },
  {
   "cell_type": "code",
   "execution_count": 2,
   "id": "401c5f65",
   "metadata": {},
   "outputs": [],
   "source": [
    "material_conective = pandas.read_csv(\"service_order_item.csv\")"
   ]
  },
  {
   "cell_type": "code",
   "execution_count": 3,
   "id": "8bf42edd",
   "metadata": {},
   "outputs": [
    {
     "data": {
      "text/plain": [
       "Index(['id', 'service_order_id', 'product_id', 'service_id', 'price',\n",
       "       'quantity', 'amount'],\n",
       "      dtype='object')"
      ]
     },
     "execution_count": 3,
     "metadata": {},
     "output_type": "execute_result"
    }
   ],
   "source": [
    "material_conective.columns"
   ]
  },
  {
   "cell_type": "code",
   "execution_count": 4,
   "id": "98786fd6",
   "metadata": {},
   "outputs": [],
   "source": [
    "material_conective.drop(['id',\n",
    "                         'service_id',\n",
    "                         'price',\n",
    "                         'quantity'],\n",
    "  axis='columns', inplace=True)"
   ]
  },
  {
   "cell_type": "code",
   "execution_count": 5,
   "id": "10b217d9",
   "metadata": {},
   "outputs": [],
   "source": [
    "# agora finalizamos mudando o nome das colunas para os pré estabelecidos"
   ]
  },
  {
   "cell_type": "code",
   "execution_count": 6,
   "id": "09a34ad6",
   "metadata": {},
   "outputs": [],
   "source": [
    "material_conective.columns = [\"service_order_id\", \"material_id\", \"amout\"]"
   ]
  },
  {
   "cell_type": "code",
   "execution_count": 7,
   "id": "f6af8b27",
   "metadata": {},
   "outputs": [
    {
     "data": {
      "text/html": [
       "<div>\n",
       "<style scoped>\n",
       "    .dataframe tbody tr th:only-of-type {\n",
       "        vertical-align: middle;\n",
       "    }\n",
       "\n",
       "    .dataframe tbody tr th {\n",
       "        vertical-align: top;\n",
       "    }\n",
       "\n",
       "    .dataframe thead th {\n",
       "        text-align: right;\n",
       "    }\n",
       "</style>\n",
       "<table border=\"1\" class=\"dataframe\">\n",
       "  <thead>\n",
       "    <tr style=\"text-align: right;\">\n",
       "      <th></th>\n",
       "      <th>service_order_id</th>\n",
       "      <th>material_id</th>\n",
       "      <th>amout</th>\n",
       "    </tr>\n",
       "  </thead>\n",
       "  <tbody>\n",
       "    <tr>\n",
       "      <th>0</th>\n",
       "      <td>2</td>\n",
       "      <td>NaN</td>\n",
       "      <td>104.0</td>\n",
       "    </tr>\n",
       "    <tr>\n",
       "      <th>1</th>\n",
       "      <td>1</td>\n",
       "      <td>NaN</td>\n",
       "      <td>52.0</td>\n",
       "    </tr>\n",
       "    <tr>\n",
       "      <th>2</th>\n",
       "      <td>1</td>\n",
       "      <td>1.0</td>\n",
       "      <td>87.0</td>\n",
       "    </tr>\n",
       "    <tr>\n",
       "      <th>3</th>\n",
       "      <td>1</td>\n",
       "      <td>3.0</td>\n",
       "      <td>151.0</td>\n",
       "    </tr>\n",
       "    <tr>\n",
       "      <th>4</th>\n",
       "      <td>1</td>\n",
       "      <td>4.0</td>\n",
       "      <td>1.5</td>\n",
       "    </tr>\n",
       "  </tbody>\n",
       "</table>\n",
       "</div>"
      ],
      "text/plain": [
       "   service_order_id  material_id  amout\n",
       "0                 2          NaN  104.0\n",
       "1                 1          NaN   52.0\n",
       "2                 1          1.0   87.0\n",
       "3                 1          3.0  151.0\n",
       "4                 1          4.0    1.5"
      ]
     },
     "execution_count": 7,
     "metadata": {},
     "output_type": "execute_result"
    }
   ],
   "source": [
    "material_conective.head()"
   ]
  },
  {
   "cell_type": "code",
   "execution_count": null,
   "id": "5b546d6b",
   "metadata": {},
   "outputs": [],
   "source": []
  }
 ],
 "metadata": {
  "kernelspec": {
   "display_name": "Python 3 (ipykernel)",
   "language": "python",
   "name": "python3"
  },
  "language_info": {
   "codemirror_mode": {
    "name": "ipython",
    "version": 3
   },
   "file_extension": ".py",
   "mimetype": "text/x-python",
   "name": "python",
   "nbconvert_exporter": "python",
   "pygments_lexer": "ipython3",
   "version": "3.9.7"
  }
 },
 "nbformat": 4,
 "nbformat_minor": 5
}
